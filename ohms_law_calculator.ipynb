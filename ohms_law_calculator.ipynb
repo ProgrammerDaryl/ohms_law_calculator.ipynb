{
 "cells": [
  {
   "cell_type": "code",
   "execution_count": null,
   "metadata": {},
   "outputs": [],
   "source": [
    "def calculator():\n",
    "# greet the user\n",
    "    print(\"\\nGreetings, User!\\n\")\n",
    "    # show the options\n",
    "    print(\"1 = Voltage\\n\" + \"2 = Current\\n\" + \"3 = Resistance\\n\")\n",
    "# ask the user what they want to calculate: Voltage, Current, or Resistance\n",
    "    operation = input(\"What do you want to calculate? (V, I, or R): \")\n",
    "\n",
    "    # if the user chose to calculate voltage\n",
    "    if operation == 1:\n",
    "        current_one = float(input(\"Please enter the value of current here!: \"))\n",
    "        resistance_one = float(input(\"Please enter the value of resistace here!: \"))\n",
    "        print(f\"Answer: {current_one * resistance_one}\")\n",
    "    "
   ]
  }
 ],
 "metadata": {
  "kernelspec": {
   "display_name": "Python 3",
   "language": "python",
   "name": "python3"
  },
  "language_info": {
   "name": "python",
   "version": "3.11.9"
  }
 },
 "nbformat": 4,
 "nbformat_minor": 2
}
