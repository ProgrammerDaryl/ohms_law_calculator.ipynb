{
 "cells": [
  {
   "cell_type": "code",
   "execution_count": null,
   "metadata": {},
   "outputs": [],
   "source": [
    "def calculator():\n",
    "# greet the user\n",
    "    print(\"\\nGreetings, User!\\n\")\n",
    "    print(\"V = Voltage\")\n",
    "\n",
    "\n",
    "# ask the user what they want to calculate: Voltage, Current, or Resistance"
   ]
  }
 ],
 "metadata": {
  "language_info": {
   "name": "python"
  }
 },
 "nbformat": 4,
 "nbformat_minor": 2
}
