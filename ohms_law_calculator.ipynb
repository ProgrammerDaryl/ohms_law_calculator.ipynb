{
 "cells": [
  {
   "cell_type": "code",
   "execution_count": null,
   "metadata": {},
   "outputs": [],
   "source": [
    "def calculator():\n",
    "# greet the user\n",
    "    print(\"\\nGreetings, User!\\n\")\n",
    "    # show the options\n",
    "    print(\"1 = Voltage\\n\" + \"2 = Current\\n\" + \"3 = Resistance\\n\")\n",
    "# ask the user what they want to calculate: Voltage, Current, or Resistance\n",
    "    operation = input(\"What do you want to calculate? (V, I, or R): \")\n",
    "\n",
    "    # if the user chose to calculate voltage\n",
    "    if operation == 1:\n",
    "        current_one = float(input(\"Please enter the value of current here!: \"))\n",
    "        resistance_one = float(input(\"Please enter the value of resistace here!: \"))\n",
    "        print(f\"The Answer is: {current_one * resistance_one} V\")\n",
    "\n",
    "    # if the user chose to calculate current\n",
    "    elif operation == 2:\n",
    "        try:\n",
    "            voltage_two = float(input(\"Please enter the value of voltage here!: \"))\n",
    "            resistance_two = float(input(\"Please enter the value of resistance here!: \"))\n",
    "            print(f\"The Current is: {voltage_two / resistance_two} A\")\n",
    "        except ZeroDivisionError as error:\n",
    "            print(\"Equation's Invalid!\\n\")\n",
    "            print(error)\n",
    "            print(\"\\nPlease try again!\\n\")\n",
    "            return\n",
    "\n",
    "    # if the user chose to calculate resistance\n",
    "    elif operation == 3:\n",
    "        try:\n",
    "            voltage_three = float(input(\"Please enter the value of voltage here!: \"))\n",
    "            current_three = float(input(\"Please enter the current here!: \"))\n",
    "            print(f\"The Resistance is: {voltage_three / current_three} Ω\")\n",
    "        except ZeroDivisionError as error:\n",
    "            print(\"Equation's Invalid\")\n",
    "            print(error)\n",
    "            print(\"Please try again\\n\")\n",
    "    \n",
    "    # if the user entered an invalid keyword\n",
    "    else:\n",
    "        print(\"The keyword you entered is invalid. Please try again.\")\n",
    "        \n",
    "            \n",
    "            \n",
    "    "
   ]
  }
 ],
 "metadata": {
  "kernelspec": {
   "display_name": "Python 3",
   "language": "python",
   "name": "python3"
  },
  "language_info": {
   "name": "python",
   "version": "3.11.9"
  }
 },
 "nbformat": 4,
 "nbformat_minor": 2
}
